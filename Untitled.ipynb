{
 "cells": [
  {
   "cell_type": "code",
   "execution_count": 11,
   "metadata": {},
   "outputs": [
    {
     "name": "stdout",
     "output_type": "stream",
     "text": [
      "[[-2.82837671  1.95500116  1.13086848 ... -3.03481706  0.05307867\n",
      "   0.65535361]\n",
      " [ 0.68702026  0.32768911  0.32733975 ... -1.26522248 -1.14964011\n",
      "   0.37446434]\n",
      " [-0.28602761  0.53964502  0.70426549 ...  0.25481963  0.3650908\n",
      "   3.49816522]\n",
      " ...\n",
      " [-1.02920718  0.84037889 -0.4872899  ...  0.51611433  0.21505972\n",
      "  -1.11291537]\n",
      " [-1.70360356  0.56933566  0.94542315 ...  0.25819639 -0.66784169\n",
      "   0.27491638]\n",
      " [-5.35088933  0.55744249  0.53525088 ... -2.00244145  0.40485426\n",
      "  -0.42406733]]\n"
     ]
    }
   ],
   "source": [
    "import numpy as np\n",
    "\n",
    "# size is number of coin tossed (in matrix it would be n*m or number of cells)\n",
    "# n = 1 for bernoulli random var\n",
    "# p is the probability. p = 0.5 is a fair coin tossed.\n",
    "# np.random.binomial(size=10, n=1, p= 0.5)\n",
    "\n",
    "def observe_matrix(A, p):\n",
    "#     get size of A and initialize observation B\n",
    "    num_rows = len(A); num_cols = len(A[0])\n",
    "    B = np.zeros((num_rows, num_cols))\n",
    "#     generate noise of mean 0,standard deviation 1, n*m values\n",
    "    noise = np.random.normal(0,1,num_rows*num_cols)\n",
    "#     create Chi variable (n=1, p=p, size = number of entries in the matrix)\n",
    "    chi = np.random.binomial(1, p, size=num_rows*num_cols)\n",
    "#     create observation matrix\n",
    "    k = 0\n",
    "    for i in range (0, num_rows):\n",
    "        for j in range(0, num_cols):\n",
    "            B[i][j] = (A[i][j] + noise[k]) * chi[k]\n",
    "            k +=1\n",
    "    \n",
    "    return B\n",
    "\n",
    "#     finding the projection matrix using formula from http://www.math.lsa.umich.edu/~speyer/417/OrthoProj.pdf\n",
    "def find_projection_matrix(A):\n",
    "    A_T = A.transpose()\n",
    "    A_T_A_inverse = np.linalg.inv(np.matmul(A_T, A))\n",
    "    res = np.matmul(A,A_T_A_inverse)\n",
    "    res = np.matmul(res, A_T)\n",
    "\n",
    "    return res\n",
    "    \n",
    "def complete_matrix(A, B,p):\n",
    "    B_tilde = (1/p)*B\n",
    "#     find left singular vectors through svd\n",
    "    # u, s, v_t = np.linalg.svd(A)\n",
    "    u, s, v_t = np.linalg.svd(B_tilde)\n",
    "    num_rows = len(B_tilde); num_cols = len(B_tilde[0])\n",
    "    r = min(num_rows, num_cols)\n",
    "#     getting the left singular vectors (U) of matrix B_tilde\n",
    "    left_singular_vectors = u[:, :r]\n",
    "    # check if vectors are linearly independent ?\n",
    "    if np.linalg.matrix_rank(left_singular_vectors) < r:\n",
    "        return -1\n",
    "    # find the projection matrix of the subspace spanned by the left_singular_vectors \n",
    "    P_U_tilde = find_projection_matrix(left_singular_vectors)\n",
    "    # A_tilde is the approximation of A\n",
    "    A_tilde = np.matmul(P_U_tilde, B_tilde)\n",
    "\n",
    "    return (A, A_tilde)\n",
    "\n",
    "\n",
    "A = np.random.rand(50,50)\n",
    "p = 0.5\n",
    "B = observe_matrix(A, p)\n",
    "\n",
    "(_, A_tilde) = complete_matrix(A, B, p)\n",
    "print(A-A_tilde)\n"
   ]
  },
  {
   "cell_type": "code",
   "execution_count": null,
   "metadata": {},
   "outputs": [],
   "source": [
    "A = np.random.rand(6,6)\n",
    "p = 0.5\n",
    "B = observe_matrix(A, p)\n",
    "\n",
    "(_, A_tilde) = complete_matrix(A, B, p)\n",
    "print(A-A_tilde)\n"
   ]
  },
  {
   "cell_type": "code",
   "execution_count": 7,
   "metadata": {},
   "outputs": [
    {
     "name": "stdout",
     "output_type": "stream",
     "text": [
      "465\n",
      "[ 0.85125623  0.79934813 -1.05531029 -1.65509599  0.65440206  3.20235559\n",
      "  0.95233523  1.03598822 -0.99846789  0.78845499 -1.30569669  0.80523596\n",
      "  0.99000524 -1.33567729  0.6065155  -0.25160607  1.68250814 -2.64216612\n",
      " -0.10845717  0.71689647  0.80031853  1.0634552   0.59261229 -0.00999476\n",
      "  0.5712262   1.16761185 -0.56058881 -0.1292529   0.98538882  0.74692552\n",
      " -0.18904719 -0.89664965  0.04256757 -1.39187648 -0.8872121  -0.93478974\n",
      "  0.88668763 -0.07506422 -0.0764011  -0.15755733 -2.00508498 -2.30701038\n",
      "  0.24322739 -2.08710074 -0.22018157  1.18279347 -0.16450779  0.06991898\n",
      " -2.27620143 -0.67249312 -1.46916948 -1.49446732 -0.52980863 -0.34379977\n",
      "  1.16781718  0.00427913 -1.55774503 -1.14846836 -0.30378173  0.88268116\n",
      " -0.48898313 -0.68671248  0.04677952 -2.12956472 -0.28086156 -0.99158542\n",
      " -1.67193984  0.20115485  0.09038965  0.40142312  0.98352707 -0.68785251\n",
      "  1.35482332 -0.64582168  0.53488161 -0.7101605  -0.55875522  1.45101054\n",
      "  0.58500584 -1.2834781   1.45492841  0.66467046  0.86052391 -0.26594118\n",
      "  0.33262331 -0.16617758  0.38646365  0.28516196  0.11773177  0.58012742\n",
      "  1.23094607 -1.08551726 -1.17304254 -1.37814257 -0.28370901  1.28579615\n",
      "  1.99379809  0.30021417 -1.11039262 -1.19471598]\n"
     ]
    }
   ],
   "source": [
    "A = np.random.rand(50,50)\n",
    "p = 0.5\n",
    "B = observe_matrix(A, p)\n",
    "\n",
    "print(A)\n",
    "print(B)\n",
    "\n",
    "(_, A_tilde) = complete_matrix(A, B, p)\n",
    "print(A-A_tilde)"
   ]
  },
  {
   "cell_type": "code",
   "execution_count": null,
   "metadata": {},
   "outputs": [],
   "source": []
  }
 ],
 "metadata": {
  "kernelspec": {
   "display_name": "Python 3",
   "language": "python",
   "name": "python3"
  },
  "language_info": {
   "codemirror_mode": {
    "name": "ipython",
    "version": 3
   },
   "file_extension": ".py",
   "mimetype": "text/x-python",
   "name": "python",
   "nbconvert_exporter": "python",
   "pygments_lexer": "ipython3",
   "version": "3.6.7"
  }
 },
 "nbformat": 4,
 "nbformat_minor": 2
}
